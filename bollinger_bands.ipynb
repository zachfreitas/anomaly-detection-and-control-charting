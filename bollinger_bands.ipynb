{
 "cells": [
  {
   "cell_type": "markdown",
   "metadata": {},
   "source": [
    "# Bollinger Bands"
   ]
  },
  {
   "cell_type": "code",
   "execution_count": 1,
   "metadata": {},
   "outputs": [],
   "source": [
    "import pandas as pd\n",
    "from datetime import datetime\n",
    "\n",
    "import plotly.graph_objs as go\n"
   ]
  },
  {
   "cell_type": "code",
   "execution_count": 2,
   "metadata": {},
   "outputs": [],
   "source": [
    "########################################################################\n",
    "# Function: Alert Plotting Function\n",
    "\n",
    "def plot_alert(df: pd.DataFrame, title: str = \"\", X_axis_lbl: str = \"\", Y_axis_lbl: str = \"\"):\n",
    "    import matplotlib.pyplot as plt\n",
    "    import matplotlib.pyplot as plt\n",
    "    plt.style.use('classic')\n",
    "    import numpy as np\n",
    "    import pandas as pd\n",
    "    \n",
    "    # Sort the data Properly    \n",
    "    #Option: sf.to_timestamp(sf.col(\"Activation Month BOP\"), 'dd/MM/yyyy HH:mm:ss').alias(\"date\"), \n",
    "    initial_df = df.sort_values(by= \"date\").copy()\n",
    "\n",
    "    # Set Variables\n",
    "    date = np.array(initial_df['date'])\n",
    "    actuals = np.array(initial_df['actuals'])\n",
    "    bar = np.array(initial_df['bar'])\n",
    "    ucl = np.array(initial_df['ucl'])\n",
    "    lcl = np.array(initial_df['lcl'])\n",
    "    colors = np.array(initial_df['RULE_1_BEYOND_3SIGMA'].apply(lambda x: 'r' if x == 1 else 'g'))\n",
    "    color_lbl = np.array(initial_df['RULE_1_BEYOND_3SIGMA'].apply(lambda x: 'SPV' if x == 1 else 'CCV'))\n",
    "\n",
    "    # Chart Limit Sizing\n",
    "    if np.min(lcl) <= np.min(actuals): \n",
    "        y_lw_lim = np.min(lcl) - np.min(lcl) * 0.1\n",
    "    else:\n",
    "        y_lw_lim = np.min(actuals) - np.min(actuals) * 0.1\n",
    "    \n",
    "    if np.max(ucl) >= np.max(actuals): \n",
    "        y_up_lim = np.max(ucl) + np.max(ucl) * 0.1\n",
    "    else:\n",
    "        y_up_lim = np.max(actuals) + np.max(actuals) * 0.1\n",
    "    \n",
    "    from matplotlib.ticker import PercentFormatter\n",
    "    \n",
    "    plt.clf() # Clear the space\n",
    "        \n",
    "    fig = plt.figure(2, figsize=[15, 10])  # an empty figure with no Axes and adjust the size\n",
    "    \n",
    "      # Change the size of the output!\n",
    "    plt.grid(which=\"major\", axis=\"y\")\n",
    "    plt.scatter(date, actuals, color=colors, zorder=10)  # Plot some data on the axes.\n",
    "    plt.plot(date, actuals,  color=\"b\", zorder=2,  label=\"Actuals\")  # Plot some data on the axes.\n",
    "    plt.step(\n",
    "        date, ucl, where=\"mid\", label=\"ucl\", linestyle=\"--\", color=\"r\", linewidth=2\n",
    "    )\n",
    "    plt.plot(date, bar, color=\"g\", linewidth=2, linestyle=\":\")\n",
    "\n",
    "    plt.step(\n",
    "        date, lcl, where=\"mid\", label=\"lcl\", linestyle=\"--\", color=\"r\", linewidth=2\n",
    "    )\n",
    "    plt.xticks(date, rotation=90)\n",
    "    plt.fill_between(date, np.array(lcl, dtype=float), np.array(ucl, dtype=float), alpha=0.1, color='green', interpolate=True, step='mid')\n",
    "    plt.ylim(y_lw_lim, y_up_lim)\n",
    "    plt.gca().yaxis.set_major_formatter(PercentFormatter(1))\n",
    "    \n",
    "    plt.xlabel(X_axis_lbl, size = 15)  # Add an x-label to the axes.\n",
    "    plt.ylabel(Y_axis_lbl, size = 15)  # Add a y-label to the axes.\n",
    "    plt.title(title, size = 25) # Add a title to the axes.\n",
    "    plt.legend() # Add a legend.\n",
    "    \n",
    "    plt.show()"
   ]
  },
  {
   "cell_type": "code",
   "execution_count": 3,
   "metadata": {},
   "outputs": [
    {
     "data": {
      "text/html": [
       "<div>\n",
       "<style scoped>\n",
       "    .dataframe tbody tr th:only-of-type {\n",
       "        vertical-align: middle;\n",
       "    }\n",
       "\n",
       "    .dataframe tbody tr th {\n",
       "        vertical-align: top;\n",
       "    }\n",
       "\n",
       "    .dataframe thead th {\n",
       "        text-align: right;\n",
       "    }\n",
       "</style>\n",
       "<table border=\"1\" class=\"dataframe\">\n",
       "  <thead>\n",
       "    <tr style=\"text-align: right;\">\n",
       "      <th></th>\n",
       "      <th>date</th>\n",
       "      <th>billing_counts</th>\n",
       "      <th>nonpayment_counts</th>\n",
       "      <th>np_pct</th>\n",
       "    </tr>\n",
       "  </thead>\n",
       "  <tbody>\n",
       "    <tr>\n",
       "      <th>0</th>\n",
       "      <td>2023-09-01</td>\n",
       "      <td>1146</td>\n",
       "      <td>328</td>\n",
       "      <td>0.286213</td>\n",
       "    </tr>\n",
       "    <tr>\n",
       "      <th>1</th>\n",
       "      <td>2023-09-04</td>\n",
       "      <td>1099</td>\n",
       "      <td>332</td>\n",
       "      <td>0.302093</td>\n",
       "    </tr>\n",
       "    <tr>\n",
       "      <th>2</th>\n",
       "      <td>2023-09-08</td>\n",
       "      <td>1030</td>\n",
       "      <td>324</td>\n",
       "      <td>0.314563</td>\n",
       "    </tr>\n",
       "    <tr>\n",
       "      <th>3</th>\n",
       "      <td>2023-09-12</td>\n",
       "      <td>1126</td>\n",
       "      <td>352</td>\n",
       "      <td>0.312611</td>\n",
       "    </tr>\n",
       "    <tr>\n",
       "      <th>4</th>\n",
       "      <td>2023-09-16</td>\n",
       "      <td>1564</td>\n",
       "      <td>528</td>\n",
       "      <td>0.337596</td>\n",
       "    </tr>\n",
       "  </tbody>\n",
       "</table>\n",
       "</div>"
      ],
      "text/plain": [
       "         date  billing_counts  nonpayment_counts    np_pct\n",
       "0  2023-09-01            1146                328  0.286213\n",
       "1  2023-09-04            1099                332  0.302093\n",
       "2  2023-09-08            1030                324  0.314563\n",
       "3  2023-09-12            1126                352  0.312611\n",
       "4  2023-09-16            1564                528  0.337596"
      ]
     },
     "execution_count": 3,
     "metadata": {},
     "output_type": "execute_result"
    }
   ],
   "source": [
    "# Data Prep.\n",
    "np_df = pd.read_csv(\"./data/bollinger_bands_data.csv\", index_col=0)\n",
    "np_df['date'] = pd.to_datetime(np_df['date']).dt.date\n",
    "np_df.head(5)"
   ]
  },
  {
   "cell_type": "code",
   "execution_count": 4,
   "metadata": {},
   "outputs": [],
   "source": [
    "# Bollinger Bands Data Prep.\n",
    "def bollinger_bands(df, date_col, metric_col, lookback_window = 15, zscore = 2):\n",
    "    # Bollinger Bands Data Calculation Function\n",
    "    data_df = df.copy()\n",
    "    \n",
    "    data_df['actuals'] = data_df[metric_col]\n",
    "    \n",
    "    # Sort the dataframe by the date_col column\n",
    "    data_df = data_df.sort_values(by=[date_col], ascending=True,  ignore_index=True)\n",
    "\n",
    "    # Calculate the n-period Simple Moving Average (SMA)\n",
    "    data_df['bar'] = data_df[metric_col].rolling(window=lookback_window).mean()\n",
    "\n",
    "    # Calculate the n-period Standard Deviation (SD)\n",
    "    data_df['SD'] = data_df[metric_col].rolling(window=lookback_window).std()\n",
    "    \n",
    "    for i in range(lookback_window - 1, 0, -1):\n",
    "        # Calculate the n-period Simple Moving Average (SMA)\n",
    "        data_df.loc[i, 'bar'] = data_df.loc[data_df.index[0:i], [metric_col]].mean()[0]\n",
    "        \n",
    "        # Calculate the n-period Standard Deviation (SD)\n",
    "        data_df.loc[i, 'SD'] = data_df.loc[data_df.index[0:i], [metric_col]].std()[0]\n",
    "\n",
    "    # Calculate the Upper Bollinger Band (UB) and Lower Bollinger Band (LB)\n",
    "    data_df['ucl'] = data_df['bar'] + zscore * data_df['SD']\n",
    "    data_df['lcl'] = data_df['bar'] - zscore * data_df['SD']\n",
    "    \n",
    "    # Rules\n",
    "    data_df['RULE_1_BEYOND_3SIGMA'] =  data_df.apply(lambda x: 1 if (x['actuals'] < x['lcl']) | (x['actuals'] > x['ucl']) else 0, axis=1)\n",
    "    \n",
    "    return data_df"
   ]
  },
  {
   "cell_type": "code",
   "execution_count": 5,
   "metadata": {},
   "outputs": [
    {
     "data": {
      "text/plain": [
       "<Figure size 640x480 with 0 Axes>"
      ]
     },
     "metadata": {},
     "output_type": "display_data"
    },
    {
     "data": {
      "image/png": "[encoded data removed]",
      "text/plain": [
       "<Figure size 1200x800 with 1 Axes>"
      ]
     },
     "metadata": {},
     "output_type": "display_data"
    }
   ],
   "source": [
    "plot_alert(\n",
    "    (bollinger_bands(np_df, 'date', 'np_pct',lookback_window = 15, zscore = 2)),\n",
    "    \"Non-Purchase Percentage with Bollinger Bands\", \n",
    "    \"Date\", \n",
    "    \"Non-Purchase Percentage\")"
   ]
  },
  {
   "cell_type": "markdown",
   "metadata": {},
   "source": [
    "# Plotly Chart Version"
   ]
  },
  {
   "cell_type": "code",
   "execution_count": 6,
   "metadata": {},
   "outputs": [],
   "source": [
    "def plot_bollinger_band(df, date, metric, date_name = 'Date', metric_name = 'Metric', title = ''):\n",
    "    # Bollinger Band Plotting Function.\n",
    "    fig = go.Figure()\n",
    "\n",
    "    # Add the main metric chart\n",
    "    fig.add_trace(go.Scatter(x=df[date], y=df[metric], mode='lines', name=metric_name))\n",
    "\n",
    "    # Add the Upper and Lower Bollinger Bands (UB) and shade the area\n",
    "    fig.add_trace(go.Scatter(x=df[date], y=df['ucl'], mode='lines', name='Upper Bollinger Band', line=dict(color='red')))\n",
    "    fig.add_trace(go.Scatter(x=df[date], y=df['lcl'], fill='tonexty', mode='lines', name='Lower Bollinger Band', line=dict(color='green')))\n",
    "\n",
    "    # Add Moving Average of Metic (MA)\n",
    "    fig.add_trace(go.Scatter(x=df[date], y=df['bar'], mode='lines', name='Middle Bollinger Band', line=dict(color='blue')))\n",
    "\n",
    "    # Customize the chart layout\n",
    "    fig.update_layout(title=title,\n",
    "                    xaxis_title=date_name,\n",
    "                    yaxis_title=metric_name,\n",
    "                    showlegend=True)\n",
    "\n",
    "    # Show the chart\n",
    "    fig.show()"
   ]
  },
  {
   "cell_type": "code",
   "execution_count": 7,
   "metadata": {},
   "outputs": [
    {
     "data": {
      "application/vnd.plotly.v1+json": {
       "config": {
        "plotlyServerURL": "https://plot.ly"
       },
       "data": [
        {
         "mode": "lines",
         "name": "Non-Payment Pct",
         "type": "scatter",
         "x": [
          "2023-09-01",
          "2023-09-04",
          "2023-09-08",
          "2023-09-12",
          "2023-09-16",
          "2023-09-20",
          "2023-09-24",
          "2023-09-28",
          "2023-10-01",
          "2023-10-04",
          "2023-10-08",
          "2023-10-12",
          "2023-10-16",
          "2023-10-20",
          "2023-10-24",
          "2023-10-28",
          "2023-11-01",
          "2023-11-04",
          "2023-11-08",
          "2023-11-12",
          "2023-11-16",
          "2023-11-20",
          "2023-11-24",
          "2023-11-28",
          "2023-12-01",
          "2023-12-04",
          "2023-12-08",
          "2023-12-12",
          "2023-12-16",
          "2023-12-20",
          "2023-12-24",
          "2023-12-28",
          "2024-01-01",
          "2024-01-04",
          "2024-01-08",
          "2024-01-12",
          "2024-01-16",
          "2024-01-20",
          "2024-01-24",
          "2024-01-28",
          "2024-02-01",
          "2024-02-04",
          "2024-02-08"
         ],
         "y": [
          0.286212914,
          0.302092812,
          0.314563107,
          0.312611012,
          0.337595908,
          0.284090909,
          0.297009967,
          0.342427093,
          0.341134113,
          0.315068493,
          0.36548913,
          0.353515625,
          0.326765189,
          0.351939451,
          0.300668151,
          0.349341596,
          0.303178484,
          0.298283262,
          0.343820225,
          0.339636914,
          0.334174023,
          0.313503305,
          0.326599327,
          0.360416667,
          0.326266196,
          0.333781965,
          0.345532831,
          0.342892768,
          0.33958539,
          0.278688525,
          0.300829876,
          0.363636364,
          0.308913309,
          0.356287425,
          0.342511013,
          0.433017591,
          0.396907216,
          0.428985507,
          0.411764706,
          0.40776699,
          0.415451895,
          0.372956909,
          0.406424581
         ]
        },
        {
         "line": {
          "color": "red"
         },
         "mode": "lines",
         "name": "Upper Bollinger Band",
         "type": "scatter",
         "x": [
          "2023-09-01",
          "2023-09-04",
          "2023-09-08",
          "2023-09-12",
          "2023-09-16",
          "2023-09-20",
          "2023-09-24",
          "2023-09-28",
          "2023-10-01",
          "2023-10-04",
          "2023-10-08",
          "2023-10-12",
          "2023-10-16",
          "2023-10-20",
          "2023-10-24",
          "2023-10-28",
          "2023-11-01",
          "2023-11-04",
          "2023-11-08",
          "2023-11-12",
          "2023-11-16",
          "2023-11-20",
          "2023-11-24",
          "2023-11-28",
          "2023-12-01",
          "2023-12-04",
          "2023-12-08",
          "2023-12-12",
          "2023-12-16",
          "2023-12-20",
          "2023-12-24",
          "2023-12-28",
          "2024-01-01",
          "2024-01-04",
          "2024-01-08",
          "2024-01-12",
          "2024-01-16",
          "2024-01-20",
          "2024-01-24",
          "2024-01-28",
          "2024-02-01",
          "2024-02-04",
          "2024-02-08"
         ],
         "y": [
          null,
          null,
          0.3166104301207014,
          0.3293747324805686,
          0.3298360650853293,
          0.34824001603015664,
          0.3462135390322547,
          0.3420685194531201,
          0.3530503777275405,
          0.3588690232696823,
          0.35646734866938784,
          0.36969654827071796,
          0.3743403159400993,
          0.37261402748738953,
          0.3754189780234305,
          0.3752962586675159,
          0.37521847759161114,
          0.37594585847055634,
          0.37835986218936596,
          0.37862374276393707,
          0.37601138268129214,
          0.3742987800369386,
          0.3729102209468742,
          0.37664820077092226,
          0.37653304020847383,
          0.37055476121227,
          0.3689174925290144,
          0.3704701932654839,
          0.36828452581500215,
          0.3729833007774058,
          0.3704825101981916,
          0.37662088135453375,
          0.3755694169281425,
          0.37788627673271313,
          0.3782470105900664,
          0.4083815589838694,
          0.418625366616467,
          0.43659475857668273,
          0.4456045366708606,
          0.45362563056764976,
          0.4621138735025079,
          0.4634154128531306,
          0.46874451726083066
         ]
        },
        {
         "fill": "tonexty",
         "line": {
          "color": "green"
         },
         "mode": "lines",
         "name": "Lower Bollinger Band",
         "type": "scatter",
         "x": [
          "2023-09-01",
          "2023-09-04",
          "2023-09-08",
          "2023-09-12",
          "2023-09-16",
          "2023-09-20",
          "2023-09-24",
          "2023-09-28",
          "2023-10-01",
          "2023-10-04",
          "2023-10-08",
          "2023-10-12",
          "2023-10-16",
          "2023-10-20",
          "2023-10-24",
          "2023-10-28",
          "2023-11-01",
          "2023-11-04",
          "2023-11-08",
          "2023-11-12",
          "2023-11-16",
          "2023-11-20",
          "2023-11-24",
          "2023-11-28",
          "2023-12-01",
          "2023-12-04",
          "2023-12-08",
          "2023-12-12",
          "2023-12-16",
          "2023-12-20",
          "2023-12-24",
          "2023-12-28",
          "2024-01-01",
          "2024-01-04",
          "2024-01-08",
          "2024-01-12",
          "2024-01-16",
          "2024-01-20",
          "2024-01-24",
          "2024-01-28",
          "2024-02-01",
          "2024-02-04",
          "2024-02-08"
         ],
         "y": [
          null,
          null,
          0.2716952958792986,
          0.27253782285276473,
          0.27790385741467066,
          0.27299028516984336,
          0.2661753483010786,
          0.2676962316897371,
          0.26610055277245953,
          0.26729494006365107,
          0.2700939169306122,
          0.26635717136564563,
          0.267628197893234,
          0.27024386051261046,
          0.2717975538337123,
          0.2772787487991507,
          0.27750128614172226,
          0.274603259262777,
          0.2763504839439674,
          0.27635873750272955,
          0.28564884611870783,
          0.2895605604963948,
          0.28883875078645915,
          0.28767177816241113,
          0.2892799657915262,
          0.29103062278773,
          0.29160351893765224,
          0.2922011620678495,
          0.292739621384998,
          0.28511022962259425,
          0.281142790868475,
          0.2830654703787996,
          0.28553427440519075,
          0.28487970793395356,
          0.2849021872766002,
          0.26794678128279725,
          0.2688234951168663,
          0.2645055938233172,
          0.26234222092913934,
          0.2651878995656836,
          0.26758898063082537,
          0.269943985013536,
          0.273085789005836
         ]
        },
        {
         "line": {
          "color": "blue"
         },
         "mode": "lines",
         "name": "Middle Bollinger Band",
         "type": "scatter",
         "x": [
          "2023-09-01",
          "2023-09-04",
          "2023-09-08",
          "2023-09-12",
          "2023-09-16",
          "2023-09-20",
          "2023-09-24",
          "2023-09-28",
          "2023-10-01",
          "2023-10-04",
          "2023-10-08",
          "2023-10-12",
          "2023-10-16",
          "2023-10-20",
          "2023-10-24",
          "2023-10-28",
          "2023-11-01",
          "2023-11-04",
          "2023-11-08",
          "2023-11-12",
          "2023-11-16",
          "2023-11-20",
          "2023-11-24",
          "2023-11-28",
          "2023-12-01",
          "2023-12-04",
          "2023-12-08",
          "2023-12-12",
          "2023-12-16",
          "2023-12-20",
          "2023-12-24",
          "2023-12-28",
          "2024-01-01",
          "2024-01-04",
          "2024-01-08",
          "2024-01-12",
          "2024-01-16",
          "2024-01-20",
          "2024-01-24",
          "2024-01-28",
          "2024-02-01",
          "2024-02-04",
          "2024-02-08"
         ],
         "y": [
          null,
          0.286212914,
          0.294152863,
          0.30095627766666666,
          0.30386996125,
          0.3106151506,
          0.30619444366666665,
          0.3048823755714286,
          0.30957546525,
          0.3130819816666667,
          0.3132806328,
          0.3180268598181818,
          0.32098425691666665,
          0.321428944,
          0.3236082659285714,
          0.3262875037333333,
          0.3263598818666667,
          0.3252745588666667,
          0.32735517306666667,
          0.3274912401333333,
          0.3308301144,
          0.3319296702666667,
          0.3308744858666667,
          0.3321599894666667,
          0.332906503,
          0.330792692,
          0.3302605057333333,
          0.3313356776666667,
          0.33051207360000007,
          0.32904676520000004,
          0.3258126505333333,
          0.32984317586666667,
          0.3305518456666666,
          0.33138299233333335,
          0.3315745989333333,
          0.33816417013333333,
          0.34372443086666665,
          0.35055017619999995,
          0.35397337879999996,
          0.3594067650666667,
          0.3648514270666666,
          0.3666796989333333,
          0.37091515313333334
         ]
        }
       ],
       "layout": {
        "showlegend": true,
        "template": {
         "data": {
          "bar": [
           {
            "error_x": {
             "color": "#2a3f5f"
            },
            "error_y": {
             "color": "#2a3f5f"
            },
            "marker": {
             "line": {
              "color": "#E5ECF6",
              "width": 0.5
             },
             "pattern": {
              "fillmode": "overlay",
              "size": 10,
              "solidity": 0.2
             }
            },
            "type": "bar"
           }
          ],
          "barpolar": [
           {
            "marker": {
             "line": {
              "color": "#E5ECF6",
              "width": 0.5
             },
             "pattern": {
              "fillmode": "overlay",
              "size": 10,
              "solidity": 0.2
             }
            },
            "type": "barpolar"
           }
          ],
          "carpet": [
           {
            "aaxis": {
             "endlinecolor": "#2a3f5f",
             "gridcolor": "white",
             "linecolor": "white",
             "minorgridcolor": "white",
             "startlinecolor": "#2a3f5f"
            },
            "baxis": {
             "endlinecolor": "#2a3f5f",
             "gridcolor": "white",
             "linecolor": "white",
             "minorgridcolor": "white",
             "startlinecolor": "#2a3f5f"
            },
            "type": "carpet"
           }
          ],
          "choropleth": [
           {
            "colorbar": {
             "outlinewidth": 0,
             "ticks": ""
            },
            "type": "choropleth"
           }
          ],
          "contour": [
           {
            "colorbar": {
             "outlinewidth": 0,
             "ticks": ""
            },
            "colorscale": [
             [
              0,
              "#0d0887"
             ],
             [
              0.1111111111111111,
              "#46039f"
             ],
             [
              0.2222222222222222,
              "#7201a8"
             ],
             [
              0.3333333333333333,
              "#9c179e"
             ],
             [
              0.4444444444444444,
              "#bd3786"
             ],
             [
              0.5555555555555556,
              "#d8576b"
             ],
             [
              0.6666666666666666,
              "#ed7953"
             ],
             [
              0.7777777777777778,
              "#fb9f3a"
             ],
             [
              0.8888888888888888,
              "#fdca26"
             ],
             [
              1,
              "#f0f921"
             ]
            ],
            "type": "contour"
           }
          ],
          "contourcarpet": [
           {
            "colorbar": {
             "outlinewidth": 0,
             "ticks": ""
            },
            "type": "contourcarpet"
           }
          ],
          "heatmap": [
           {
            "colorbar": {
             "outlinewidth": 0,
             "ticks": ""
            },
            "colorscale": [
             [
              0,
              "#0d0887"
             ],
             [
              0.1111111111111111,
              "#46039f"
             ],
             [
              0.2222222222222222,
              "#7201a8"
             ],
             [
              0.3333333333333333,
              "#9c179e"
             ],
             [
              0.4444444444444444,
              "#bd3786"
             ],
             [
              0.5555555555555556,
              "#d8576b"
             ],
             [
              0.6666666666666666,
              "#ed7953"
             ],
             [
              0.7777777777777778,
              "#fb9f3a"
             ],
             [
              0.8888888888888888,
              "#fdca26"
             ],
             [
              1,
              "#f0f921"
             ]
            ],
            "type": "heatmap"
           }
          ],
          "heatmapgl": [
           {
            "colorbar": {
             "outlinewidth": 0,
             "ticks": ""
            },
            "colorscale": [
             [
              0,
              "#0d0887"
             ],
             [
              0.1111111111111111,
              "#46039f"
             ],
             [
              0.2222222222222222,
              "#7201a8"
             ],
             [
              0.3333333333333333,
              "#9c179e"
             ],
             [
              0.4444444444444444,
              "#bd3786"
             ],
             [
              0.5555555555555556,
              "#d8576b"
             ],
             [
              0.6666666666666666,
              "#ed7953"
             ],
             [
              0.7777777777777778,
              "#fb9f3a"
             ],
             [
              0.8888888888888888,
              "#fdca26"
             ],
             [
              1,
              "#f0f921"
             ]
            ],
            "type": "heatmapgl"
           }
          ],
          "histogram": [
           {
            "marker": {
             "pattern": {
              "fillmode": "overlay",
              "size": 10,
              "solidity": 0.2
             }
            },
            "type": "histogram"
           }
          ],
          "histogram2d": [
           {
            "colorbar": {
             "outlinewidth": 0,
             "ticks": ""
            },
            "colorscale": [
             [
              0,
              "#0d0887"
             ],
             [
              0.1111111111111111,
              "#46039f"
             ],
             [
              0.2222222222222222,
              "#7201a8"
             ],
             [
              0.3333333333333333,
              "#9c179e"
             ],
             [
              0.4444444444444444,
              "#bd3786"
             ],
             [
              0.5555555555555556,
              "#d8576b"
             ],
             [
              0.6666666666666666,
              "#ed7953"
             ],
             [
              0.7777777777777778,
              "#fb9f3a"
             ],
             [
              0.8888888888888888,
              "#fdca26"
             ],
             [
              1,
              "#f0f921"
             ]
            ],
            "type": "histogram2d"
           }
          ],
          "histogram2dcontour": [
           {
            "colorbar": {
             "outlinewidth": 0,
             "ticks": ""
            },
            "colorscale": [
             [
              0,
              "#0d0887"
             ],
             [
              0.1111111111111111,
              "#46039f"
             ],
             [
              0.2222222222222222,
              "#7201a8"
             ],
             [
              0.3333333333333333,
              "#9c179e"
             ],
             [
              0.4444444444444444,
              "#bd3786"
             ],
             [
              0.5555555555555556,
              "#d8576b"
             ],
             [
              0.6666666666666666,
              "#ed7953"
             ],
             [
              0.7777777777777778,
              "#fb9f3a"
             ],
             [
              0.8888888888888888,
              "#fdca26"
             ],
             [
              1,
              "#f0f921"
             ]
            ],
            "type": "histogram2dcontour"
           }
          ],
          "mesh3d": [
           {
            "colorbar": {
             "outlinewidth": 0,
             "ticks": ""
            },
            "type": "mesh3d"
           }
          ],
          "parcoords": [
           {
            "line": {
             "colorbar": {
              "outlinewidth": 0,
              "ticks": ""
             }
            },
            "type": "parcoords"
           }
          ],
          "pie": [
           {
            "automargin": true,
            "type": "pie"
           }
          ],
          "scatter": [
           {
            "fillpattern": {
             "fillmode": "overlay",
             "size": 10,
             "solidity": 0.2
            },
            "type": "scatter"
           }
          ],
          "scatter3d": [
           {
            "line": {
             "colorbar": {
              "outlinewidth": 0,
              "ticks": ""
             }
            },
            "marker": {
             "colorbar": {
              "outlinewidth": 0,
              "ticks": ""
             }
            },
            "type": "scatter3d"
           }
          ],
          "scattercarpet": [
           {
            "marker": {
             "colorbar": {
              "outlinewidth": 0,
              "ticks": ""
             }
            },
            "type": "scattercarpet"
           }
          ],
          "scattergeo": [
           {
            "marker": {
             "colorbar": {
              "outlinewidth": 0,
              "ticks": ""
             }
            },
            "type": "scattergeo"
           }
          ],
          "scattergl": [
           {
            "marker": {
             "colorbar": {
              "outlinewidth": 0,
              "ticks": ""
             }
            },
            "type": "scattergl"
           }
          ],
          "scattermapbox": [
           {
            "marker": {
             "colorbar": {
              "outlinewidth": 0,
              "ticks": ""
             }
            },
            "type": "scattermapbox"
           }
          ],
          "scatterpolar": [
           {
            "marker": {
             "colorbar": {
              "outlinewidth": 0,
              "ticks": ""
             }
            },
            "type": "scatterpolar"
           }
          ],
          "scatterpolargl": [
           {
            "marker": {
             "colorbar": {
              "outlinewidth": 0,
              "ticks": ""
             }
            },
            "type": "scatterpolargl"
           }
          ],
          "scatterternary": [
           {
            "marker": {
             "colorbar": {
              "outlinewidth": 0,
              "ticks": ""
             }
            },
            "type": "scatterternary"
           }
          ],
          "surface": [
           {
            "colorbar": {
             "outlinewidth": 0,
             "ticks": ""
            },
            "colorscale": [
             [
              0,
              "#0d0887"
             ],
             [
              0.1111111111111111,
              "#46039f"
             ],
             [
              0.2222222222222222,
              "#7201a8"
             ],
             [
              0.3333333333333333,
              "#9c179e"
             ],
             [
              0.4444444444444444,
              "#bd3786"
             ],
             [
              0.5555555555555556,
              "#d8576b"
             ],
             [
              0.6666666666666666,
              "#ed7953"
             ],
             [
              0.7777777777777778,
              "#fb9f3a"
             ],
             [
              0.8888888888888888,
              "#fdca26"
             ],
             [
              1,
              "#f0f921"
             ]
            ],
            "type": "surface"
           }
          ],
          "table": [
           {
            "cells": {
             "fill": {
              "color": "#EBF0F8"
             },
             "line": {
              "color": "white"
             }
            },
            "header": {
             "fill": {
              "color": "#C8D4E3"
             },
             "line": {
              "color": "white"
             }
            },
            "type": "table"
           }
          ]
         },
         "layout": {
          "annotationdefaults": {
           "arrowcolor": "#2a3f5f",
           "arrowhead": 0,
           "arrowwidth": 1
          },
          "autotypenumbers": "strict",
          "coloraxis": {
           "colorbar": {
            "outlinewidth": 0,
            "ticks": ""
           }
          },
          "colorscale": {
           "diverging": [
            [
             0,
             "#8e0152"
            ],
            [
             0.1,
             "#c51b7d"
            ],
            [
             0.2,
             "#de77ae"
            ],
            [
             0.3,
             "#f1b6da"
            ],
            [
             0.4,
             "#fde0ef"
            ],
            [
             0.5,
             "#f7f7f7"
            ],
            [
             0.6,
             "#e6f5d0"
            ],
            [
             0.7,
             "#b8e186"
            ],
            [
             0.8,
             "#7fbc41"
            ],
            [
             0.9,
             "#4d9221"
            ],
            [
             1,
             "#276419"
            ]
           ],
           "sequential": [
            [
             0,
             "#0d0887"
            ],
            [
             0.1111111111111111,
             "#46039f"
            ],
            [
             0.2222222222222222,
             "#7201a8"
            ],
            [
             0.3333333333333333,
             "#9c179e"
            ],
            [
             0.4444444444444444,
             "#bd3786"
            ],
            [
             0.5555555555555556,
             "#d8576b"
            ],
            [
             0.6666666666666666,
             "#ed7953"
            ],
            [
             0.7777777777777778,
             "#fb9f3a"
            ],
            [
             0.8888888888888888,
             "#fdca26"
            ],
            [
             1,
             "#f0f921"
            ]
           ],
           "sequentialminus": [
            [
             0,
             "#0d0887"
            ],
            [
             0.1111111111111111,
             "#46039f"
            ],
            [
             0.2222222222222222,
             "#7201a8"
            ],
            [
             0.3333333333333333,
             "#9c179e"
            ],
            [
             0.4444444444444444,
             "#bd3786"
            ],
            [
             0.5555555555555556,
             "#d8576b"
            ],
            [
             0.6666666666666666,
             "#ed7953"
            ],
            [
             0.7777777777777778,
             "#fb9f3a"
            ],
            [
             0.8888888888888888,
             "#fdca26"
            ],
            [
             1,
             "#f0f921"
            ]
           ]
          },
          "colorway": [
           "#636efa",
           "#EF553B",
           "#00cc96",
           "#ab63fa",
           "#FFA15A",
           "#19d3f3",
           "#FF6692",
           "#B6E880",
           "#FF97FF",
           "#FECB52"
          ],
          "font": {
           "color": "#2a3f5f"
          },
          "geo": {
           "bgcolor": "white",
           "lakecolor": "white",
           "landcolor": "#E5ECF6",
           "showlakes": true,
           "showland": true,
           "subunitcolor": "white"
          },
          "hoverlabel": {
           "align": "left"
          },
          "hovermode": "closest",
          "mapbox": {
           "style": "light"
          },
          "paper_bgcolor": "white",
          "plot_bgcolor": "#E5ECF6",
          "polar": {
           "angularaxis": {
            "gridcolor": "white",
            "linecolor": "white",
            "ticks": ""
           },
           "bgcolor": "#E5ECF6",
           "radialaxis": {
            "gridcolor": "white",
            "linecolor": "white",
            "ticks": ""
           }
          },
          "scene": {
           "xaxis": {
            "backgroundcolor": "#E5ECF6",
            "gridcolor": "white",
            "gridwidth": 2,
            "linecolor": "white",
            "showbackground": true,
            "ticks": "",
            "zerolinecolor": "white"
           },
           "yaxis": {
            "backgroundcolor": "#E5ECF6",
            "gridcolor": "white",
            "gridwidth": 2,
            "linecolor": "white",
            "showbackground": true,
            "ticks": "",
            "zerolinecolor": "white"
           },
           "zaxis": {
            "backgroundcolor": "#E5ECF6",
            "gridcolor": "white",
            "gridwidth": 2,
            "linecolor": "white",
            "showbackground": true,
            "ticks": "",
            "zerolinecolor": "white"
           }
          },
          "shapedefaults": {
           "line": {
            "color": "#2a3f5f"
           }
          },
          "ternary": {
           "aaxis": {
            "gridcolor": "white",
            "linecolor": "white",
            "ticks": ""
           },
           "baxis": {
            "gridcolor": "white",
            "linecolor": "white",
            "ticks": ""
           },
           "bgcolor": "#E5ECF6",
           "caxis": {
            "gridcolor": "white",
            "linecolor": "white",
            "ticks": ""
           }
          },
          "title": {
           "x": 0.05
          },
          "xaxis": {
           "automargin": true,
           "gridcolor": "white",
           "linecolor": "white",
           "ticks": "",
           "title": {
            "standoff": 15
           },
           "zerolinecolor": "white",
           "zerolinewidth": 2
          },
          "yaxis": {
           "automargin": true,
           "gridcolor": "white",
           "linecolor": "white",
           "ticks": "",
           "title": {
            "standoff": 15
           },
           "zerolinecolor": "white",
           "zerolinewidth": 2
          }
         }
        },
        "title": {
         "text": "Non-Payment Pct with Bollinger Bands"
        },
        "xaxis": {
         "title": {
          "text": "Date"
         }
        },
        "yaxis": {
         "title": {
          "text": "Non-Payment Pct"
         }
        }
       }
      }
     },
     "metadata": {},
     "output_type": "display_data"
    }
   ],
   "source": [
    "plot_bollinger_band(\n",
    "    bollinger_bands(np_df, 'date', 'np_pct',lookback_window = 15, zscore = 2), \n",
    "    'date', \n",
    "    'np_pct', \n",
    "    metric_name = 'Non-Payment Pct', \n",
    "    title = 'Non-Payment Pct with Bollinger Bands')"
   ]
  },
  {
   "cell_type": "code",
   "execution_count": null,
   "metadata": {},
   "outputs": [],
   "source": []
  }
 ],
 "metadata": {
  "kernelspec": {
   "display_name": "Python 3",
   "language": "python",
   "name": "python3"
  },
  "language_info": {
   "codemirror_mode": {
    "name": "ipython",
    "version": 3
   },
   "file_extension": ".py",
   "mimetype": "text/x-python",
   "name": "python",
   "nbconvert_exporter": "python",
   "pygments_lexer": "ipython3",
   "version": "3.11.8"
  }
 },
 "nbformat": 4,
 "nbformat_minor": 2
}
